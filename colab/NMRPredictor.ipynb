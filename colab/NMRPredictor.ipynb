{
  "nbformat": 4,
  "nbformat_minor": 0,
  "metadata": {
    "colab": {
      "name": "NMRPredictor.ipynb",
      "provenance": [],
      "collapsed_sections": []
    },
    "kernelspec": {
      "name": "python3",
      "display_name": "Python 3"
    },
    "language_info": {
      "name": "python"
    }
  },
  "cells": [
    {
      "cell_type": "markdown",
      "metadata": {
        "id": "eZB_EVAl8oTx"
      },
      "source": [
        "# Graph neural network for predicting NMR chemical shifts\n",
        "\n",
        "This Collab is the code and a pre-trained model to predict NMR chemical shifts from protein structures and organic molecules from a graph neural network.\n",
        "\n",
        "[Github Repo](https://github.com/ur-whitelab/nmrgnn/)\n",
        "\n",
        "\n",
        "**You should not trust peaks coming from model without checking confidence flag**\n",
        "\n",
        "## Citation\n",
        "\n",
        "Please cite [Predicting Chemical Shifts with Graph Neural Networks](https://pubs.rsc.org/en/content/articlehtml/2021/sc/d1sc01895g)\n",
        "\n",
        "```bibtex\n",
        "@article{yang2021predicting,\n",
        "  title={Predicting Chemical Shifts with Graph Neural Networks},\n",
        "  author={Yang, Ziyue and Chakraborty, Maghesree and White, Andrew D},\n",
        "  journal={Chemical Science},\n",
        "  year={2021},\n",
        "  publisher={Royal Society of Chemistry}\n",
        "}\n",
        "```\n",
        "```\n",
        "## Model Performance\n",
        "\n",
        "[See here](https://github.com/ur-whitelab/nmrgnn/blob/master/README.md#model-performance)\n"
      ]
    },
    {
      "cell_type": "code",
      "metadata": {
        "id": "99YqrtrawcDM",
        "cellView": "form"
      },
      "source": [
        "#@title Install Dependncies\n",
        "from IPython.utils import io\n",
        "import os\n",
        "import subprocess\n",
        "import tqdm.notebook\n",
        "\n",
        "TQDM_BAR_FORMAT = '{l_bar}{bar}| {n_fmt}/{total_fmt} [elapsed: {elapsed} remaining: {remaining}]'\n",
        "\n",
        "try:\n",
        "  with tqdm.notebook.tqdm(total=100, bar_format=TQDM_BAR_FORMAT) as pbar:\n",
        "    with io.capture_output() as captured:\n",
        "\n",
        "      # Install OpenMM and pdbfixer.\n",
        "      %shell rm -rf /opt/conda\n",
        "      %shell wget -q -P /tmp \\\n",
        "        https://repo.anaconda.com/miniconda/Miniconda3-latest-Linux-x86_64.sh \\\n",
        "          && bash /tmp/Miniconda3-latest-Linux-x86_64.sh -b -p /opt/conda \\\n",
        "          && rm /tmp/Miniconda3-latest-Linux-x86_64.sh\n",
        "      pbar.update(10)\n",
        "\n",
        "      PATH=%env PATH\n",
        "      %env PATH=/opt/conda/bin:{PATH}\n",
        "      %shell conda update -qy conda \\\n",
        "          && conda install -qy -c conda-forge \\\n",
        "            python=3.7 \\\n",
        "            openmm=7.5.1 \\\n",
        "            pdbfixer\n",
        "      pbar.update(50)\n",
        "      %shell python -m pip install nmrgnn@git+git://github.com/ur-whitelab/nmrgnn.git pandas\n",
        "      pbar.update(10)\n",
        "      %shell python -m pip install \"nmrdata[parse] @ git+git://github.com/ur-whitelab/nmrdata.git\"\n",
        "      pbar.update(15)\n",
        "      # MDanalysis problem?\n",
        "      %shell python -m pip uninstall -y numpy && pip install numpy\n",
        "      pbar.update(15)\n",
        "except subprocess.CalledProcessError:\n",
        "  print(captured)\n",
        "  raise"
      ],
      "execution_count": null,
      "outputs": []
    },
    {
      "cell_type": "code",
      "metadata": {
        "cellView": "form",
        "id": "K4v51baXyUGl"
      },
      "source": [
        "#@title Choose input PDB\n",
        "from google.colab import files\n",
        "\n",
        "uploaded = files.upload()\n",
        "\n",
        "for fn in uploaded.keys():\n",
        "  pdb_input = fn"
      ],
      "execution_count": null,
      "outputs": []
    },
    {
      "cell_type": "code",
      "metadata": {
        "cellView": "form",
        "id": "MlJb_iDA6HQk"
      },
      "source": [
        "#@title Compute Chemical Shifts\n",
        "job = pdb_input.split('.pdb')[0]\n",
        "pdb_output = f'{job}-clean.pdb'\n",
        "csv_output = f'{job}-shifts.csv'\n",
        "\n",
        "%shell nmrparse clean-pdb $pdb_input $pdb_output\n",
        "%shell nmrgnn eval-struct $pdb_output $csv_output\n"
      ],
      "execution_count": null,
      "outputs": []
    },
    {
      "cell_type": "code",
      "metadata": {
        "colab": {
          "base_uri": "https://localhost:8080/",
          "height": 336
        },
        "cellView": "form",
        "id": "jryIGJq07NDM",
        "outputId": "63120277-cf7d-4493-e6bb-0091ed416caf"
      },
      "source": [
        "#@title Visualize Results\n",
        "#@markdown Histograms of predicted chemical shifts\n",
        "import sys\n",
        "sys.path.append('/opt/conda/lib/python3.7/site-packages')\n",
        "import pandas as pd\n",
        "import matplotlib.pyplot as plt\n",
        "\n",
        "data = pd.read_csv(csv_output)\n",
        "data.head()\n",
        "\n",
        "fig, axs = plt.subplots(1, 3, figsize=(15, 5))\n",
        "axs[0].set_title('Hydrogen chemical Shifts')\n",
        "axs[0].hist(data[data.names.str.startswith('H')].peaks, bins=100)\n",
        "axs[1].set_title('Carbon chemical Shifts')\n",
        "axs[1].hist(data[data.names.str.startswith('C')].peaks, bins=100)\n",
        "axs[2].set_title('Nitrogen chemical Shifts')\n",
        "axs[2].hist(data[data.names.str.startswith('N')].peaks, bins=100)\n",
        "plt.show()\n"
      ],
      "execution_count": 4,
      "outputs": [
        {
          "output_type": "display_data",
          "data": {
            "image/png": "[encoded data removed]",
            "text/plain": [
              "<Figure size 1080x360 with 3 Axes>"
            ]
          },
          "metadata": {
            "tags": [],
            "needs_background": "light"
          }
        }
      ]
    },
    {
      "cell_type": "code",
      "metadata": {
        "colab": {
          "base_uri": "https://localhost:8080/",
          "height": 17
        },
        "cellView": "form",
        "id": "IlC3Q-3wwQcY",
        "outputId": "7f736f4d-6f5f-4d5b-cc4f-1e4945c60cf6"
      },
      "source": [
        "#@title Download CSV of Predicted Shifts\n",
        "from google.colab import files\n",
        "files.download(csv_output) "
      ],
      "execution_count": null,
      "outputs": [
        {
          "output_type": "display_data",
          "data": {
            "application/javascript": [
              "\n",
              "    async function download(id, filename, size) {\n",
              "      if (!google.colab.kernel.accessAllowed) {\n",
              "        return;\n",
              "      }\n",
              "      const div = document.createElement('div');\n",
              "      const label = document.createElement('label');\n",
              "      label.textContent = `Downloading \"${filename}\": `;\n",
              "      div.appendChild(label);\n",
              "      const progress = document.createElement('progress');\n",
              "      progress.max = size;\n",
              "      div.appendChild(progress);\n",
              "      document.body.appendChild(div);\n",
              "\n",
              "      const buffers = [];\n",
              "      let downloaded = 0;\n",
              "\n",
              "      const channel = await google.colab.kernel.comms.open(id);\n",
              "      // Send a message to notify the kernel that we're ready.\n",
              "      channel.send({})\n",
              "\n",
              "      for await (const message of channel.messages) {\n",
              "        // Send a message to notify the kernel that we're ready.\n",
              "        channel.send({})\n",
              "        if (message.buffers) {\n",
              "          for (const buffer of message.buffers) {\n",
              "            buffers.push(buffer);\n",
              "            downloaded += buffer.byteLength;\n",
              "            progress.value = downloaded;\n",
              "          }\n",
              "        }\n",
              "      }\n",
              "      const blob = new Blob(buffers, {type: 'application/binary'});\n",
              "      const a = document.createElement('a');\n",
              "      a.href = window.URL.createObjectURL(blob);\n",
              "      a.download = filename;\n",
              "      div.appendChild(a);\n",
              "      a.click();\n",
              "      div.remove();\n",
              "    }\n",
              "  "
            ],
            "text/plain": [
              "<IPython.core.display.Javascript object>"
            ]
          },
          "metadata": {
            "tags": []
          }
        },
        {
          "output_type": "display_data",
          "data": {
            "application/javascript": [
              "download(\"download_108b464c-b4da-4fe0-af82-a0ccd253858d\", \"out.csv\", 307356)"
            ],
            "text/plain": [
              "<IPython.core.display.Javascript object>"
            ]
          },
          "metadata": {
            "tags": []
          }
        }
      ]
    },
    {
      "cell_type": "code",
      "metadata": {
        "cellView": "form",
        "id": "FJV2URjfzsKK"
      },
      "source": [
        "#@title Download Processed PDB used for Shift Prediction\n",
        "from google.colab import files\n",
        "files.download(pdb_output) "
      ],
      "execution_count": null,
      "outputs": []
    }
  ]
}